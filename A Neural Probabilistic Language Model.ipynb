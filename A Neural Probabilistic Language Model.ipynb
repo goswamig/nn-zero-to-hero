{
 "cells": [
  {
   "cell_type": "code",
   "execution_count": 1,
   "id": "2d1c4a7f",
   "metadata": {},
   "outputs": [],
   "source": [
    "# https://www.jmlr.org/papers/volume3/bengio03a/bengio03a.pdf\n",
    "# basically count based table will blow out if we account context \n",
    "# The paper is based for word (17000 words embedded in 30 dimensional space)\n",
    "# we are going to use same idea but for context"
   ]
  },
  {
   "cell_type": "code",
   "execution_count": 2,
   "id": "8e300e5d",
   "metadata": {},
   "outputs": [],
   "source": [
    "import torch\n",
    "import torch.nn.functional as F\n",
    "import matplotlib.pyplot as plt # for making figures\n",
    "%matplotlib inline"
   ]
  },
  {
   "cell_type": "code",
   "execution_count": 3,
   "id": "8682af97",
   "metadata": {},
   "outputs": [
    {
     "data": {
      "text/plain": [
       "['emma', 'olivia', 'ava', 'isabella', 'sophia', 'charlotte', 'mia', 'amelia']"
      ]
     },
     "execution_count": 3,
     "metadata": {},
     "output_type": "execute_result"
    }
   ],
   "source": [
    "# read in all the words\n",
    "words = open('names.txt', 'r').read().splitlines()\n",
    "words[:8]"
   ]
  },
  {
   "cell_type": "code",
   "execution_count": 4,
   "id": "ab704959",
   "metadata": {},
   "outputs": [
    {
     "data": {
      "text/plain": [
       "32033"
      ]
     },
     "execution_count": 4,
     "metadata": {},
     "output_type": "execute_result"
    }
   ],
   "source": [
    "len(words)"
   ]
  },
  {
   "cell_type": "code",
   "execution_count": 5,
   "id": "3d8eb84f",
   "metadata": {},
   "outputs": [
    {
     "data": {
      "text/plain": [
       "{1: 'a',\n",
       " 2: 'b',\n",
       " 3: 'c',\n",
       " 4: 'd',\n",
       " 5: 'e',\n",
       " 6: 'f',\n",
       " 7: 'g',\n",
       " 8: 'h',\n",
       " 9: 'i',\n",
       " 10: 'j',\n",
       " 11: 'k',\n",
       " 12: 'l',\n",
       " 13: 'm',\n",
       " 14: 'n',\n",
       " 15: 'o',\n",
       " 16: 'p',\n",
       " 17: 'q',\n",
       " 18: 'r',\n",
       " 19: 's',\n",
       " 20: 't',\n",
       " 21: 'u',\n",
       " 22: 'v',\n",
       " 23: 'w',\n",
       " 24: 'x',\n",
       " 25: 'y',\n",
       " 26: 'z',\n",
       " 0: '.'}"
      ]
     },
     "execution_count": 5,
     "metadata": {},
     "output_type": "execute_result"
    }
   ],
   "source": [
    "chars = sorted(list(set(''.join(words))))\n",
    "stoi = {s:i+1 for i, s in enumerate(chars)}\n",
    "stoi['.'] = 0\n",
    "stoi\n",
    "itos = {i:s for s,i in stoi.items()}\n",
    "itos"
   ]
  },
  {
   "cell_type": "code",
   "execution_count": 6,
   "id": "51d13f7f",
   "metadata": {},
   "outputs": [
    {
     "name": "stdout",
     "output_type": "stream",
     "text": [
      "emma\n",
      "... ---> e\n",
      "..e ---> m\n",
      ".em ---> m\n",
      "emm ---> a\n",
      "mma ---> .\n",
      "olivia\n",
      "... ---> o\n",
      "..o ---> l\n",
      ".ol ---> i\n",
      "oli ---> v\n",
      "liv ---> i\n",
      "ivi ---> a\n",
      "via ---> .\n",
      "ava\n",
      "... ---> a\n",
      "..a ---> v\n",
      ".av ---> a\n",
      "ava ---> .\n",
      "isabella\n",
      "... ---> i\n",
      "..i ---> s\n",
      ".is ---> a\n",
      "isa ---> b\n",
      "sab ---> e\n",
      "abe ---> l\n",
      "bel ---> l\n",
      "ell ---> a\n",
      "lla ---> .\n",
      "sophia\n",
      "... ---> s\n",
      "..s ---> o\n",
      ".so ---> p\n",
      "sop ---> h\n",
      "oph ---> i\n",
      "phi ---> a\n",
      "hia ---> .\n"
     ]
    }
   ],
   "source": [
    "# build the dataset\n",
    "block_size = 3 # context length: how many characters do we take to predict the next one?\n",
    "# i.e. take 3 chars to predict the next one\n",
    "X, Y = [], []\n",
    "for w in words[:5]:\n",
    "    print(w)\n",
    "    context = [0] * block_size\n",
    "    for ch in w + '.':\n",
    "        ix = stoi[ch]\n",
    "        X.append(context)\n",
    "        Y.append(ix) # add level\n",
    "        print(''.join(itos[i] for i in context), '--->', itos[ix])\n",
    "        context = context[1:] + [ix]\n",
    "\n",
    "X = torch.tensor(X)\n",
    "Y = torch.tensor(Y)\n"
   ]
  },
  {
   "cell_type": "code",
   "execution_count": 7,
   "id": "a6a2fd28",
   "metadata": {},
   "outputs": [
    {
     "data": {
      "text/plain": [
       "(torch.Size([32, 3]), torch.int64, torch.Size([32]), torch.int64)"
      ]
     },
     "execution_count": 7,
     "metadata": {},
     "output_type": "execute_result"
    }
   ],
   "source": [
    "X.shape, X.dtype, Y.shape, Y.dtype"
   ]
  },
  {
   "cell_type": "code",
   "execution_count": 8,
   "id": "6b4fbe21",
   "metadata": {},
   "outputs": [],
   "source": [
    "# lets create a embeddeing table where all 27 chars maps to 2D \n",
    "C = torch.rand((27, 2))"
   ]
  },
  {
   "cell_type": "code",
   "execution_count": 9,
   "id": "bb5ad346",
   "metadata": {},
   "outputs": [
    {
     "data": {
      "text/plain": [
       "tensor([[0.6755, 0.4191],\n",
       "        [0.4419, 0.1642],\n",
       "        [0.1208, 0.9162],\n",
       "        [0.9666, 0.9030],\n",
       "        [0.1041, 0.3606],\n",
       "        [0.6100, 0.6337],\n",
       "        [0.1722, 0.3560],\n",
       "        [0.0372, 0.1381],\n",
       "        [0.5646, 0.2962],\n",
       "        [0.4599, 0.2267],\n",
       "        [0.9101, 0.6581],\n",
       "        [0.9152, 0.7263],\n",
       "        [0.7886, 0.8667],\n",
       "        [0.7418, 0.9261],\n",
       "        [0.0466, 0.5448],\n",
       "        [0.2716, 0.3802],\n",
       "        [0.4201, 0.8083],\n",
       "        [0.5910, 0.0315],\n",
       "        [0.7696, 0.5066],\n",
       "        [0.5817, 0.1779],\n",
       "        [0.3195, 0.7945],\n",
       "        [0.6689, 0.9991],\n",
       "        [0.3198, 0.7888],\n",
       "        [0.4346, 0.7467],\n",
       "        [0.8518, 0.7893],\n",
       "        [0.0251, 0.7340],\n",
       "        [0.4047, 0.7798]])"
      ]
     },
     "execution_count": 9,
     "metadata": {},
     "output_type": "execute_result"
    }
   ],
   "source": [
    "C\n"
   ]
  },
  {
   "cell_type": "code",
   "execution_count": 10,
   "id": "0afcedbe",
   "metadata": {},
   "outputs": [
    {
     "data": {
      "text/plain": [
       "tensor([0.6100, 0.6337])"
      ]
     },
     "execution_count": 10,
     "metadata": {},
     "output_type": "execute_result"
    }
   ],
   "source": [
    "C[5]"
   ]
  },
  {
   "cell_type": "code",
   "execution_count": 11,
   "id": "d4e856fe",
   "metadata": {},
   "outputs": [
    {
     "data": {
      "text/plain": [
       "tensor([0.6100, 0.6337])"
      ]
     },
     "execution_count": 11,
     "metadata": {},
     "output_type": "execute_result"
    }
   ],
   "source": [
    "F.one_hot(torch.tensor(5), num_classes=27).float() @ C"
   ]
  },
  {
   "cell_type": "code",
   "execution_count": 12,
   "id": "a574a490",
   "metadata": {},
   "outputs": [
    {
     "data": {
      "text/plain": [
       "tensor([[[0.6755, 0.4191],\n",
       "         [0.6755, 0.4191],\n",
       "         [0.6755, 0.4191]],\n",
       "\n",
       "        [[0.6755, 0.4191],\n",
       "         [0.6755, 0.4191],\n",
       "         [0.6100, 0.6337]],\n",
       "\n",
       "        [[0.6755, 0.4191],\n",
       "         [0.6100, 0.6337],\n",
       "         [0.7418, 0.9261]],\n",
       "\n",
       "        [[0.6100, 0.6337],\n",
       "         [0.7418, 0.9261],\n",
       "         [0.7418, 0.9261]],\n",
       "\n",
       "        [[0.7418, 0.9261],\n",
       "         [0.7418, 0.9261],\n",
       "         [0.4419, 0.1642]],\n",
       "\n",
       "        [[0.6755, 0.4191],\n",
       "         [0.6755, 0.4191],\n",
       "         [0.6755, 0.4191]],\n",
       "\n",
       "        [[0.6755, 0.4191],\n",
       "         [0.6755, 0.4191],\n",
       "         [0.2716, 0.3802]],\n",
       "\n",
       "        [[0.6755, 0.4191],\n",
       "         [0.2716, 0.3802],\n",
       "         [0.7886, 0.8667]],\n",
       "\n",
       "        [[0.2716, 0.3802],\n",
       "         [0.7886, 0.8667],\n",
       "         [0.4599, 0.2267]],\n",
       "\n",
       "        [[0.7886, 0.8667],\n",
       "         [0.4599, 0.2267],\n",
       "         [0.3198, 0.7888]],\n",
       "\n",
       "        [[0.4599, 0.2267],\n",
       "         [0.3198, 0.7888],\n",
       "         [0.4599, 0.2267]],\n",
       "\n",
       "        [[0.3198, 0.7888],\n",
       "         [0.4599, 0.2267],\n",
       "         [0.4419, 0.1642]],\n",
       "\n",
       "        [[0.6755, 0.4191],\n",
       "         [0.6755, 0.4191],\n",
       "         [0.6755, 0.4191]],\n",
       "\n",
       "        [[0.6755, 0.4191],\n",
       "         [0.6755, 0.4191],\n",
       "         [0.4419, 0.1642]],\n",
       "\n",
       "        [[0.6755, 0.4191],\n",
       "         [0.4419, 0.1642],\n",
       "         [0.3198, 0.7888]],\n",
       "\n",
       "        [[0.4419, 0.1642],\n",
       "         [0.3198, 0.7888],\n",
       "         [0.4419, 0.1642]],\n",
       "\n",
       "        [[0.6755, 0.4191],\n",
       "         [0.6755, 0.4191],\n",
       "         [0.6755, 0.4191]],\n",
       "\n",
       "        [[0.6755, 0.4191],\n",
       "         [0.6755, 0.4191],\n",
       "         [0.4599, 0.2267]],\n",
       "\n",
       "        [[0.6755, 0.4191],\n",
       "         [0.4599, 0.2267],\n",
       "         [0.5817, 0.1779]],\n",
       "\n",
       "        [[0.4599, 0.2267],\n",
       "         [0.5817, 0.1779],\n",
       "         [0.4419, 0.1642]],\n",
       "\n",
       "        [[0.5817, 0.1779],\n",
       "         [0.4419, 0.1642],\n",
       "         [0.1208, 0.9162]],\n",
       "\n",
       "        [[0.4419, 0.1642],\n",
       "         [0.1208, 0.9162],\n",
       "         [0.6100, 0.6337]],\n",
       "\n",
       "        [[0.1208, 0.9162],\n",
       "         [0.6100, 0.6337],\n",
       "         [0.7886, 0.8667]],\n",
       "\n",
       "        [[0.6100, 0.6337],\n",
       "         [0.7886, 0.8667],\n",
       "         [0.7886, 0.8667]],\n",
       "\n",
       "        [[0.7886, 0.8667],\n",
       "         [0.7886, 0.8667],\n",
       "         [0.4419, 0.1642]],\n",
       "\n",
       "        [[0.6755, 0.4191],\n",
       "         [0.6755, 0.4191],\n",
       "         [0.6755, 0.4191]],\n",
       "\n",
       "        [[0.6755, 0.4191],\n",
       "         [0.6755, 0.4191],\n",
       "         [0.5817, 0.1779]],\n",
       "\n",
       "        [[0.6755, 0.4191],\n",
       "         [0.5817, 0.1779],\n",
       "         [0.2716, 0.3802]],\n",
       "\n",
       "        [[0.5817, 0.1779],\n",
       "         [0.2716, 0.3802],\n",
       "         [0.4201, 0.8083]],\n",
       "\n",
       "        [[0.2716, 0.3802],\n",
       "         [0.4201, 0.8083],\n",
       "         [0.5646, 0.2962]],\n",
       "\n",
       "        [[0.4201, 0.8083],\n",
       "         [0.5646, 0.2962],\n",
       "         [0.4599, 0.2267]],\n",
       "\n",
       "        [[0.5646, 0.2962],\n",
       "         [0.4599, 0.2267],\n",
       "         [0.4419, 0.1642]]])"
      ]
     },
     "execution_count": 12,
     "metadata": {},
     "output_type": "execute_result"
    }
   ],
   "source": [
    "C[X]"
   ]
  },
  {
   "cell_type": "code",
   "execution_count": 13,
   "id": "8b04cc95",
   "metadata": {},
   "outputs": [
    {
     "data": {
      "text/plain": [
       "torch.Size([32, 3, 2])"
      ]
     },
     "execution_count": 13,
     "metadata": {},
     "output_type": "execute_result"
    }
   ],
   "source": [
    "C[X].shape"
   ]
  },
  {
   "cell_type": "code",
   "execution_count": 14,
   "id": "10b46fef",
   "metadata": {},
   "outputs": [
    {
     "data": {
      "text/plain": [
       "tensor(1)"
      ]
     },
     "execution_count": 14,
     "metadata": {},
     "output_type": "execute_result"
    }
   ],
   "source": [
    "X[13, 2]"
   ]
  },
  {
   "cell_type": "code",
   "execution_count": 15,
   "id": "ecd69cfb",
   "metadata": {},
   "outputs": [
    {
     "data": {
      "text/plain": [
       "tensor([0.4419, 0.1642])"
      ]
     },
     "execution_count": 15,
     "metadata": {},
     "output_type": "execute_result"
    }
   ],
   "source": [
    "C[X][13,2]"
   ]
  },
  {
   "cell_type": "code",
   "execution_count": 16,
   "id": "cc06456d",
   "metadata": {},
   "outputs": [
    {
     "data": {
      "text/plain": [
       "tensor([0.4419, 0.1642])"
      ]
     },
     "execution_count": 16,
     "metadata": {},
     "output_type": "execute_result"
    }
   ],
   "source": [
    "C[1]"
   ]
  },
  {
   "cell_type": "code",
   "execution_count": 17,
   "id": "1ee27ad4",
   "metadata": {},
   "outputs": [
    {
     "data": {
      "text/plain": [
       "torch.Size([32, 3, 2])"
      ]
     },
     "execution_count": 17,
     "metadata": {},
     "output_type": "execute_result"
    }
   ],
   "source": [
    "emb = C[X]\n",
    "emb.shape"
   ]
  },
  {
   "cell_type": "code",
   "execution_count": 18,
   "id": "6214f4f4",
   "metadata": {},
   "outputs": [],
   "source": [
    "W1 = torch.randn((6, 100)) # 6 is the 3*2 of X shape\n",
    "b1 = torch.randn(100)"
   ]
  },
  {
   "cell_type": "code",
   "execution_count": 19,
   "id": "1ce40a61",
   "metadata": {},
   "outputs": [
    {
     "data": {
      "text/plain": [
       "torch.Size([32, 6])"
      ]
     },
     "execution_count": 19,
     "metadata": {},
     "output_type": "execute_result"
    }
   ],
   "source": [
    "# emb @ W1 + b1 does not work so we need to transform emb so that \n",
    "# matrix multiplication with 3*2 will match\n",
    "torch.cat(torch.unbind(emb, 1), 1).shape"
   ]
  },
  {
   "cell_type": "code",
   "execution_count": 20,
   "id": "43746c20",
   "metadata": {},
   "outputs": [
    {
     "data": {
      "text/plain": [
       "tensor([[-4.6502e-01, -7.8521e-01,  9.8901e-01,  ...,  3.4933e-02,\n",
       "          3.6956e-01, -9.8532e-01],\n",
       "        [-4.9730e-01, -9.0550e-01,  9.9142e-01,  ..., -5.8638e-04,\n",
       "          2.3361e-01, -9.8479e-01],\n",
       "        [-6.8696e-01, -9.6221e-01,  9.9335e-01,  ..., -2.1057e-01,\n",
       "          1.3310e-01, -9.7775e-01],\n",
       "        ...,\n",
       "        [-4.8631e-01, -6.3805e-01,  9.7598e-01,  ..., -7.1882e-01,\n",
       "          4.0070e-01, -8.4445e-01],\n",
       "        [ 4.0774e-01, -7.2642e-01,  9.9151e-01,  ..., -1.0644e-01,\n",
       "          1.4417e-01, -9.6539e-01],\n",
       "        [ 2.0603e-01, -3.8134e-01,  9.7860e-01,  ...,  1.7770e-01,\n",
       "          4.1522e-02, -9.5618e-01]])"
      ]
     },
     "execution_count": 20,
     "metadata": {},
     "output_type": "execute_result"
    }
   ],
   "source": [
    "# other way is using view which is very similar \n",
    "# another way to do is called view, read http://blog.ezyang.com/2019/05/pytorch-internals/ \n",
    "h = torch.tanh(emb.view(-1, 6) @ W1 + b1)\n",
    "h"
   ]
  },
  {
   "cell_type": "code",
   "execution_count": 21,
   "id": "fc258c2f",
   "metadata": {},
   "outputs": [
    {
     "data": {
      "text/plain": [
       "torch.Size([32, 100])"
      ]
     },
     "execution_count": 21,
     "metadata": {},
     "output_type": "execute_result"
    }
   ],
   "source": [
    "h.shape"
   ]
  },
  {
   "cell_type": "code",
   "execution_count": 22,
   "id": "1ebf5150",
   "metadata": {},
   "outputs": [],
   "source": [
    "W2 = torch.randn(100, 27) # we need 27 chars output\n",
    "b2 = torch.randn(27)"
   ]
  },
  {
   "cell_type": "code",
   "execution_count": 23,
   "id": "554a7d3b",
   "metadata": {},
   "outputs": [
    {
     "data": {
      "text/plain": [
       "torch.Size([32, 27])"
      ]
     },
     "execution_count": 23,
     "metadata": {},
     "output_type": "execute_result"
    }
   ],
   "source": [
    "logits = h @ W2 + b2\n",
    "logits.shape"
   ]
  },
  {
   "cell_type": "code",
   "execution_count": 24,
   "id": "337bbe52",
   "metadata": {},
   "outputs": [],
   "source": [
    "counts = logits.exp()"
   ]
  },
  {
   "cell_type": "code",
   "execution_count": 25,
   "id": "5d1b225e",
   "metadata": {},
   "outputs": [
    {
     "data": {
      "text/plain": [
       "torch.Size([32, 27])"
      ]
     },
     "execution_count": 25,
     "metadata": {},
     "output_type": "execute_result"
    }
   ],
   "source": [
    "probs = counts / counts.sum(1, keepdims=True)\n",
    "probs.shape"
   ]
  },
  {
   "cell_type": "code",
   "execution_count": 26,
   "id": "09709b77",
   "metadata": {},
   "outputs": [
    {
     "data": {
      "text/plain": [
       "tensor(1.0000)"
      ]
     },
     "execution_count": 26,
     "metadata": {},
     "output_type": "execute_result"
    }
   ],
   "source": [
    "probs[0].sum()"
   ]
  },
  {
   "cell_type": "code",
   "execution_count": 27,
   "id": "1a50638d",
   "metadata": {},
   "outputs": [
    {
     "data": {
      "text/plain": [
       "tensor([ 5, 13, 13,  1,  0, 15, 12,  9, 22,  9,  1,  0,  1, 22,  1,  0,  9, 19,\n",
       "         1,  2,  5, 12, 12,  1,  0, 19, 15, 16,  8,  9,  1,  0])"
      ]
     },
     "execution_count": 27,
     "metadata": {},
     "output_type": "execute_result"
    }
   ],
   "source": [
    "Y"
   ]
  },
  {
   "cell_type": "code",
   "execution_count": 28,
   "id": "cbf82903",
   "metadata": {},
   "outputs": [
    {
     "data": {
      "text/plain": [
       "tensor([4.3336e-06, 9.6356e-01, 7.9218e-01, 7.0418e-08, 4.2902e-06, 6.9694e-02,\n",
       "        3.9994e-03, 9.5597e-11, 1.2267e-03, 2.5235e-07, 2.5137e-10, 6.6951e-06,\n",
       "        4.0456e-07, 1.5286e-05, 5.0408e-07, 3.3914e-06, 3.0580e-07, 1.0647e-01,\n",
       "        1.2503e-06, 4.9663e-03, 3.6310e-06, 2.5391e-09, 5.3984e-06, 1.7870e-07,\n",
       "        7.0339e-06, 2.6393e-03, 1.2841e-01, 4.5638e-03, 1.1325e-12, 3.8819e-11,\n",
       "        5.6671e-09, 3.9615e-02])"
      ]
     },
     "execution_count": 28,
     "metadata": {},
     "output_type": "execute_result"
    }
   ],
   "source": [
    "probs[torch.arange(32), Y]"
   ]
  },
  {
   "cell_type": "code",
   "execution_count": 29,
   "id": "34aaaf73",
   "metadata": {},
   "outputs": [
    {
     "data": {
      "text/plain": [
       "tensor(11.7682)"
      ]
     },
     "execution_count": 29,
     "metadata": {},
     "output_type": "execute_result"
    }
   ],
   "source": [
    "loss = -probs[torch.arange(32), Y].log().mean()\n",
    "loss"
   ]
  },
  {
   "cell_type": "code",
   "execution_count": null,
   "id": "08ec09ee",
   "metadata": {},
   "outputs": [],
   "source": []
  }
 ],
 "metadata": {
  "kernelspec": {
   "display_name": "Python 3 (ipykernel)",
   "language": "python",
   "name": "python3"
  },
  "language_info": {
   "codemirror_mode": {
    "name": "ipython",
    "version": 3
   },
   "file_extension": ".py",
   "mimetype": "text/x-python",
   "name": "python",
   "nbconvert_exporter": "python",
   "pygments_lexer": "ipython3",
   "version": "3.9.16"
  }
 },
 "nbformat": 4,
 "nbformat_minor": 5
}
