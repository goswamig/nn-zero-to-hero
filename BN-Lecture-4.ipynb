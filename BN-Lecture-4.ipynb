{
 "cells": [
  {
   "cell_type": "code",
   "execution_count": 1,
   "id": "2fdf811f",
   "metadata": {},
   "outputs": [],
   "source": [
    "# This will be based on MLP but more towards how we optimize training \n"
   ]
  },
  {
   "cell_type": "code",
   "execution_count": 2,
   "id": "cd76dd71",
   "metadata": {},
   "outputs": [],
   "source": [
    "import torch\n",
    "import torch.nn.functional as F\n",
    "import matplotlib.pyplot as plt # for making figures\n",
    "%matplotlib inline"
   ]
  },
  {
   "cell_type": "code",
   "execution_count": 3,
   "id": "f0c53fad",
   "metadata": {},
   "outputs": [
    {
     "data": {
      "text/plain": [
       "['emma', 'olivia', 'ava', 'isabella', 'sophia', 'charlotte', 'mia', 'amelia']"
      ]
     },
     "execution_count": 3,
     "metadata": {},
     "output_type": "execute_result"
    }
   ],
   "source": [
    "# read in all the words\n",
    "words = open('names.txt', 'r').read().splitlines()\n",
    "words[:8]"
   ]
  },
  {
   "cell_type": "code",
   "execution_count": 4,
   "id": "5aff3725",
   "metadata": {},
   "outputs": [
    {
     "data": {
      "text/plain": [
       "32033"
      ]
     },
     "execution_count": 4,
     "metadata": {},
     "output_type": "execute_result"
    }
   ],
   "source": [
    "len(words)"
   ]
  },
  {
   "cell_type": "code",
   "execution_count": 5,
   "id": "91451263",
   "metadata": {},
   "outputs": [
    {
     "name": "stdout",
     "output_type": "stream",
     "text": [
      "{1: 'a', 2: 'b', 3: 'c', 4: 'd', 5: 'e', 6: 'f', 7: 'g', 8: 'h', 9: 'i', 10: 'j', 11: 'k', 12: 'l', 13: 'm', 14: 'n', 15: 'o', 16: 'p', 17: 'q', 18: 'r', 19: 's', 20: 't', 21: 'u', 22: 'v', 23: 'w', 24: 'x', 25: 'y', 26: 'z', 0: '.'}\n",
      "27\n"
     ]
    }
   ],
   "source": [
    "# build the vocabulary of characters and mappings to/from integers\n",
    "chars = sorted(list(set(''.join(words))))\n",
    "stoi = {s:i+1 for i,s in enumerate(chars)}\n",
    "stoi['.'] = 0\n",
    "itos = {i:s for s,i in stoi.items()}\n",
    "vocab_size = len(itos)\n",
    "print(itos)\n",
    "print(vocab_size)"
   ]
  },
  {
   "cell_type": "code",
   "execution_count": 6,
   "id": "8fcab97b",
   "metadata": {},
   "outputs": [
    {
     "name": "stdout",
     "output_type": "stream",
     "text": [
      "torch.Size([182625, 3]) torch.Size([182625])\n",
      "torch.Size([22655, 3]) torch.Size([22655])\n",
      "torch.Size([22866, 3]) torch.Size([22866])\n"
     ]
    }
   ],
   "source": [
    "# build the dataset\n",
    "block_size = 3 # context length: how many characters do we take to predict the next one?\n",
    "\n",
    "def build_dataset(words):  \n",
    "  X, Y = [], []\n",
    "  \n",
    "  for w in words:\n",
    "    context = [0] * block_size\n",
    "    for ch in w + '.':\n",
    "      ix = stoi[ch]\n",
    "      X.append(context)\n",
    "      Y.append(ix)\n",
    "      context = context[1:] + [ix] # crop and append\n",
    "\n",
    "  X = torch.tensor(X)\n",
    "  Y = torch.tensor(Y)\n",
    "  print(X.shape, Y.shape)\n",
    "  return X, Y\n",
    "\n",
    "import random\n",
    "random.seed(42)\n",
    "random.shuffle(words)\n",
    "n1 = int(0.8*len(words))\n",
    "n2 = int(0.9*len(words))\n",
    "\n",
    "Xtr,  Ytr  = build_dataset(words[:n1])     # 80%\n",
    "Xdev, Ydev = build_dataset(words[n1:n2])   # 10%\n",
    "Xte,  Yte  = build_dataset(words[n2:])     # 10%"
   ]
  },
  {
   "cell_type": "code",
   "execution_count": 60,
   "id": "d0f7f9e1",
   "metadata": {},
   "outputs": [
    {
     "name": "stdout",
     "output_type": "stream",
     "text": [
      "11897\n"
     ]
    }
   ],
   "source": [
    "# MLP revisited\n",
    "n_embd = 10 # the dimensionality of the character embedding vectors\n",
    "n_hidden = 200 # the number of neurons in the hidden layer of the MLP\n",
    "\n",
    "g = torch.Generator().manual_seed(2147483647) # for reproducibility\n",
    "C  = torch.randn((vocab_size, n_embd),            generator=g)\n",
    "W1 = torch.randn((n_embd * block_size, n_hidden), generator=g) *0.2 #* (5/3)/((n_embd * block_size)**0.5) #* 0.2\n",
    "b1 = torch.randn(n_hidden,                        generator=g) * 0.01\n",
    "W2 = torch.randn((n_hidden, vocab_size),          generator=g) * 0.01 # fix initialization, why not zero ? \n",
    "b2 = torch.randn(vocab_size,                      generator=g) * 0 # fix initialization to minimize logits value\n",
    "\n",
    "# BatchNorm parameters\n",
    "# bngain = torch.ones((1, n_hidden))\n",
    "# bnbias = torch.zeros((1, n_hidden))\n",
    "# bnmean_running = torch.zeros((1, n_hidden))\n",
    "# bnstd_running = torch.ones((1, n_hidden))\n",
    "\n",
    "parameters = [C, W1,b1, W2, b2] #, bngain, bnbias]\n",
    "print(sum(p.nelement() for p in parameters)) # number of parameters in total\n",
    "for p in parameters:\n",
    "  p.requires_grad = True"
   ]
  },
  {
   "cell_type": "code",
   "execution_count": 61,
   "id": "b842f404",
   "metadata": {},
   "outputs": [
    {
     "name": "stdout",
     "output_type": "stream",
     "text": [
      "      0/ 200000: 3.3135\n",
      "  10000/ 200000: 2.1648\n",
      "  20000/ 200000: 2.3061\n",
      "  30000/ 200000: 2.4541\n",
      "  40000/ 200000: 1.9787\n",
      "  50000/ 200000: 2.2930\n",
      "  60000/ 200000: 2.4232\n",
      "  70000/ 200000: 2.0680\n",
      "  80000/ 200000: 2.3095\n",
      "  90000/ 200000: 2.1207\n",
      " 100000/ 200000: 1.8269\n",
      " 110000/ 200000: 2.2045\n",
      " 120000/ 200000: 1.9797\n",
      " 130000/ 200000: 2.3946\n",
      " 140000/ 200000: 2.1000\n",
      " 150000/ 200000: 2.1948\n",
      " 160000/ 200000: 1.8619\n",
      " 170000/ 200000: 1.7809\n",
      " 180000/ 200000: 1.9673\n",
      " 190000/ 200000: 1.8295\n"
     ]
    }
   ],
   "source": [
    "# same optimization as last time\n",
    "max_steps = 200000\n",
    "batch_size = 32\n",
    "lossi = []\n",
    "\n",
    "for i in range(max_steps):\n",
    "  \n",
    "  # minibatch construct\n",
    "  ix = torch.randint(0, Xtr.shape[0], (batch_size,), generator=g)\n",
    "  Xb, Yb = Xtr[ix], Ytr[ix] # batch X,Y\n",
    "  \n",
    "  # forward pass\n",
    "  emb = C[Xb] # embed the characters into vectors, this is gaussian \n",
    "  embcat = emb.view(emb.shape[0], -1) # concatenate the vectors\n",
    "  # Linear layer\n",
    "  hpreact = embcat @ W1 + b1 # hidden layer pre-activation, want close to zero \n",
    "#   # BatchNorm layer\n",
    "#   # -------------------------------------------------------------\n",
    "#   bnmeani = hpreact.mean(0, keepdim=True)\n",
    "#   bnstdi = hpreact.std(0, keepdim=True)\n",
    "#   hpreact = bngain * (hpreact - bnmeani) / bnstdi + bnbias\n",
    "#   with torch.no_grad():\n",
    "#     bnmean_running = 0.999 * bnmean_running + 0.001 * bnmeani\n",
    "#     bnstd_running = 0.999 * bnstd_running + 0.001 * bnstdi\n",
    "#   # -------------------------------------------------------------\n",
    "  # Non-linearity\n",
    "  h = torch.tanh(hpreact) # hidden layer\n",
    "  logits = h @ W2 + b2 # output layer\n",
    "  loss = F.cross_entropy(logits, Yb) # loss function\n",
    "  \n",
    "  # backward pass\n",
    "  for p in parameters:\n",
    "    p.grad = None\n",
    "  loss.backward()\n",
    "  \n",
    "  # update\n",
    "  lr = 0.1 if i < 100000 else 0.01 # step learning rate decay\n",
    "  for p in parameters:\n",
    "    p.data += -lr * p.grad\n",
    "\n",
    "  # track stats\n",
    "  if i % 10000 == 0: # print every once in a while\n",
    "    print(f'{i:7d}/{max_steps:7d}: {loss.item():.4f}')\n",
    "  lossi.append(loss.log10().item())\n",
    "#   print(logits)\n",
    "#   break  \n",
    "  "
   ]
  },
  {
   "cell_type": "code",
   "execution_count": 55,
   "id": "14888b9e",
   "metadata": {},
   "outputs": [
    {
     "data": {
      "text/plain": [
       "<matplotlib.image.AxesImage at 0x126b1fa00>"
      ]
     },
     "execution_count": 55,
     "metadata": {},
     "output_type": "execute_result"
    },
    {
     "data": {
      "image/png": "[encoded data removed]",
      "text/plain": [
       "<Figure size 2000x1000 with 1 Axes>"
      ]
     },
     "metadata": {},
     "output_type": "display_data"
    }
   ],
   "source": [
    "# black 0 and white 1 for h, white places all neuron will be destroyed\n",
    "plt.figure(figsize=(20, 10))\n",
    "plt.imshow(h.abs() > 0.99, cmap='gray', interpolation='nearest')\n",
    "# if column is white then nothing is passing by "
   ]
  },
  {
   "cell_type": "code",
   "execution_count": 56,
   "id": "ad0fab04",
   "metadata": {},
   "outputs": [
    {
     "data": {
      "image/png": "[encoded data removed]",
      "text/plain": [
       "<Figure size 640x480 with 1 Axes>"
      ]
     },
     "metadata": {},
     "output_type": "display_data"
    }
   ],
   "source": [
    "plt.hist(h.view(-1).tolist(), 50); # value of h passed to tanh so majority of it should not be close to 1,-1"
   ]
  },
  {
   "cell_type": "code",
   "execution_count": 57,
   "id": "0eed32b4",
   "metadata": {},
   "outputs": [
    {
     "data": {
      "image/png": "[encoded data removed]",
      "text/plain": [
       "<Figure size 640x480 with 1 Axes>"
      ]
     },
     "metadata": {},
     "output_type": "display_data"
    }
   ],
   "source": [
    "plt.hist(hpreact.view(-1).tolist(), 50); # this is being passed to tanh, so higher value will result into 1 or -1\n",
    "# ti fix this we want it to close to uniform distribution with mean 0 and variance 1."
   ]
  },
  {
   "cell_type": "code",
   "execution_count": 64,
   "id": "d0333527",
   "metadata": {},
   "outputs": [],
   "source": [
    "# ## loss log\n",
    "\n",
    "# ### original:\n",
    "# train 2.1245384216308594\n",
    "# val   2.168196439743042\n",
    "\n",
    "# ### fix softmax confidently wrong: (W2, B2)\n",
    "# train 2.07\n",
    "# val   2.13\n",
    "\n",
    "# ### fix tanh layer too saturated at init: (W1, B1)\n",
    "# train 2.0355966091156006\n",
    "# val   2.1026785373687744\n",
    "\n",
    "# ### use semi-principled \"kaiming init\" instead of hacky init:\n",
    "# train 2.0376641750335693\n",
    "# val   2.106989622116089\n",
    "\n",
    "# ### add batch norm layer\n",
    "# train 2.0668270587921143\n",
    "# val 2.104844808578491"
   ]
  },
  {
   "cell_type": "code",
   "execution_count": 58,
   "id": "28c4c12c",
   "metadata": {},
   "outputs": [
    {
     "data": {
      "text/plain": [
       "tensor(3.2958)"
      ]
     },
     "execution_count": 58,
     "metadata": {},
     "output_type": "execute_result"
    }
   ],
   "source": [
    "# Notes the first thing to pay attentions is initialization \n",
    "# Initial loss should have been 1/27, uniform distribution \n",
    "-torch.log(torch.tensor(1/27.0))"
   ]
  },
  {
   "cell_type": "code",
   "execution_count": 59,
   "id": "80d12a39",
   "metadata": {},
   "outputs": [
    {
     "name": "stdout",
     "output_type": "stream",
     "text": [
      "tensor([0.2500, 0.2500, 0.2500, 0.2500]) tensor(1.3863)\n",
      "tensor([0.0066, 0.0066, 0.9802, 0.0066]) tensor(0.0200)\n",
      "tensor([1.0000e+00, 3.7835e-44, 5.5211e-42, 3.7835e-44]) tensor(95.0000)\n",
      "tensor([0.4808, 0.0882, 0.4019, 0.0291]) tensor(0.9115)\n"
     ]
    }
   ],
   "source": [
    "# 4 dimensions example of the issue, so basically during initialization \n",
    "# logits is taking exterme value \n",
    "logits = torch.tensor([0.0, 0.0, 0.0, 0.0])\n",
    "probs = torch.softmax(logits, dim=0)\n",
    "loss = -probs[2].log()\n",
    "print(probs, loss)\n",
    "\n",
    "logits = torch.tensor([0.0, 0.0, 5.0, 0.0])\n",
    "probs = torch.softmax(logits, dim=0)\n",
    "loss = -probs[2].log()\n",
    "print(probs, loss) # low loss\n",
    "\n",
    "logits = torch.tensor([100.0, 0.0, 5.0, 0.0])\n",
    "probs = torch.softmax(logits, dim=0)\n",
    "loss = -probs[2].log()\n",
    "print(probs, loss) # high loss\n",
    "\n",
    "\n",
    "logits = torch.randn(4)\n",
    "probs = torch.softmax(logits, dim=0)\n",
    "loss = -probs[2].log()\n",
    "print(probs, loss) # high loss"
   ]
  },
  {
   "cell_type": "code",
   "execution_count": 52,
   "id": "c935fe5a",
   "metadata": {},
   "outputs": [
    {
     "data": {
      "text/plain": [
       "[<matplotlib.lines.Line2D at 0x126a02700>]"
      ]
     },
     "execution_count": 52,
     "metadata": {},
     "output_type": "execute_result"
    },
    {
     "data": {
      "image/png": "[encoded data removed]",
      "text/plain": [
       "<Figure size 640x480 with 1 Axes>"
      ]
     },
     "metadata": {},
     "output_type": "display_data"
    }
   ],
   "source": [
    "plt.plot(lossi)"
   ]
  },
  {
   "cell_type": "code",
   "execution_count": 12,
   "id": "8872ba0b",
   "metadata": {},
   "outputs": [],
   "source": [
    "# # calibrate the batch norm at the end of training\n",
    "\n",
    "# with torch.no_grad():\n",
    "#   # pass the training set through\n",
    "#   emb = C[Xtr]\n",
    "#   embcat = emb.view(emb.shape[0], -1)\n",
    "#   hpreact = embcat @ W1 # + b1\n",
    "#   # measure the mean/std over the entire training set\n",
    "#   bnmean = hpreact.mean(0, keepdim=True)\n",
    "#   bnstd = hpreact.std(0, keepdim=True)\n"
   ]
  },
  {
   "cell_type": "code",
   "execution_count": 32,
   "id": "5945f35b",
   "metadata": {},
   "outputs": [
    {
     "name": "stdout",
     "output_type": "stream",
     "text": [
      "train 2.0695769786834717\n",
      "val 2.131199836730957\n"
     ]
    }
   ],
   "source": [
    "@torch.no_grad() # this decorator disables gradient tracking\n",
    "def split_loss(split):\n",
    "  x,y = {\n",
    "    'train': (Xtr, Ytr),\n",
    "    'val': (Xdev, Ydev),\n",
    "    'test': (Xte, Yte),\n",
    "  }[split]\n",
    "  emb = C[x] # (N, block_size, n_embd)\n",
    "  embcat = emb.view(emb.shape[0], -1) # concat into (N, block_size * n_embd)\n",
    "  h = torch.tanh(embcat @ W1  + b1)\n",
    "  #hpreact = bngain * (hpreact - hpreact.mean(0, keepdim=True)) / hpreact.std(0, keepdim=True) + bnbias\n",
    "  #hpreact = bngain * (hpreact - bnmean_running) / bnstd_running + bnbias\n",
    "  logits = h @ W2 + b2 # (N, vocab_size)\n",
    "  loss = F.cross_entropy(logits, y)\n",
    "  print(split, loss.item())\n",
    "\n",
    "split_loss('train')\n",
    "split_loss('val')"
   ]
  },
  {
   "cell_type": "code",
   "execution_count": 14,
   "id": "5b0f6540",
   "metadata": {},
   "outputs": [
    {
     "name": "stdout",
     "output_type": "stream",
     "text": [
      "rrnhvvyhcyysewgfy.\n",
      "rrnhvqbgcdyhddrshcjkhgkbdnrzothslrhcgfy.\n",
      ".\n",
      "rrnhvqbgsewgmtiofvyrhguyozvwucovwidtesjrhguyozvwucovwthslrindiedixjy.\n",
      "rrnhvqbgsexjkcynsrqhs.\n",
      ".\n",
      "hlcbyhidigdyxzvkhhjkdixjyrhguyozvwucovwths.\n",
      "rrnhvqbgsewgmtiofvwths.\n",
      ".\n",
      "rrnhodydddddddddddxshvyyhodydiejoyhshodydiediddxshvyyhjkdgxyyoadiddxshvyyhjkdixjyrhguyozvwucovwthslkdaadjdyhdyrzgthxjy.\n",
      "rrnhodydzshvyyhodyddddddddxewaesyxshvyycoewidigdyxzvkhhjkyixfkcovwidtesjrhguyozvwucovwthslrhcgfy.\n",
      ".\n",
      "rrnhvqbgxdyrzucovwidtesjrhguyozvyycbyhidigdyxzvkhhdirzoahodydiedixjyrnnxvymhjkdokhdneslkdjxvccvnhguyozvyyhodydiddxshvyyhadiddxshvyyhjkigkhynguhddrzvwuhjryhcyysewylsouhjryhouyhouyhodydiediejoyhshwjwtesjrhguyozvwucovwixtyxfvwthslrhcgfy.\n",
      ".\n",
      "rrnhvqbgsexjkcynsrqhs.\n",
      ".\n",
      ".\n",
      "rrnhvvyhcyysewgmtiofvyrhgtbxjyrnuodrewaesyxshvyyhjkdixjyrhgtfxjkcynsrnshxjyrhgcbyhidigdyxzvkhhoyy.\n",
      ".\n",
      "rrnhvvyhcyysewgmtiofvwovsvcvxhczyikkoon.\n"
     ]
    }
   ],
   "source": [
    "# sample from the model\n",
    "g = torch.Generator().manual_seed(2147483647 + 10)\n",
    "\n",
    "for _ in range(20):\n",
    "    \n",
    "    out = []\n",
    "    context = [0] * block_size # initialize with all ...\n",
    "    while True:\n",
    "      emb = C[torch.tensor([context])] # (1,block_size,d)\n",
    "      h = torch.tanh(emb.view(1, -1) @ W1 + b1)\n",
    "      logits = h @ W2 + b2\n",
    "      probs = F.softmax(logits, dim=1)\n",
    "      ix = torch.multinomial(probs, num_samples=1, generator=g).item()\n",
    "      context = context[1:] + [ix]\n",
    "      out.append(ix)\n",
    "      if ix == 0:\n",
    "        break\n",
    "    \n",
    "    print(''.join(itos[i] for i in out))\n",
    "    "
   ]
  },
  {
   "cell_type": "code",
   "execution_count": 15,
   "id": "7e7f0585",
   "metadata": {},
   "outputs": [],
   "source": [
    "# Notes the first thing to pay attentions is initialization \n",
    "# Initial loss should have been 1/27, uniform distribution \n",
    "# First thing: Fix logits value to be uniform and small\n",
    "# second thing: Value of h which gets passed to tanh (-1, 1) at the edge the slope is 0\n",
    "#             This is dead neuron\n",
    "#.          basically tanh backward will be zero if tanh ~= 1 or -1 , flat region\n",
    "# if tanh =0 then gradient will just pass through \n",
    "# so if tanh=1 or -1 (dead neuron) or if tanh = 0 then gradient will be just pass by\n",
    "# so. we want some entropy so tanh should not be -1, 1 or 0\n",
    "# apart from flat region, a high learning rate can also caused the too much gradient and then it gets knocked out\n",
    "# During Initializaion it can also \n",
    "# so question is why do you use a function with flat tails ? \n"
   ]
  }
 ],
 "metadata": {
  "kernelspec": {
   "display_name": "Python 3 (ipykernel)",
   "language": "python",
   "name": "python3"
  },
  "language_info": {
   "codemirror_mode": {
    "name": "ipython",
    "version": 3
   },
   "file_extension": ".py",
   "mimetype": "text/x-python",
   "name": "python",
   "nbconvert_exporter": "python",
   "pygments_lexer": "ipython3",
   "version": "3.9.16"
  }
 },
 "nbformat": 4,
 "nbformat_minor": 5
}
